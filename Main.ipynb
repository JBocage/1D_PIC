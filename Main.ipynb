{
 "cells": [
  {
   "cell_type": "markdown",
   "metadata": {},
   "source": [
    "# A small 1D pic without Poisson\n",
    "To try out the fake R model"
   ]
  },
  {
   "cell_type": "code",
   "execution_count": 51,
   "metadata": {
    "ExecuteTime": {
     "end_time": "2017-10-08T20:37:44.683081Z",
     "start_time": "2017-10-08T20:37:44.679297Z"
    }
   },
   "outputs": [
    {
     "name": "stdout",
     "output_type": "stream",
     "text": [
      "The snakeviz extension is already loaded. To reload it, use:\n",
      "  %reload_ext snakeviz\n"
     ]
    }
   ],
   "source": [
    "import numpy as np\n",
    "import scipy as sp\n",
    "import astropy\n",
    "\n",
    "import matplotlib.pyplot as plt\n",
    "%matplotlib inline\n",
    "\n",
    "\n",
    "\n",
    "from ipywidgets import IntProgress as prog\n",
    "from IPython.display import display\n",
    "\n",
    "%load_ext snakeviz\n"
   ]
  },
  {
   "cell_type": "code",
   "execution_count": 52,
   "metadata": {
    "collapsed": true
   },
   "outputs": [],
   "source": [
    "#parameters\n",
    "Nx = 100 #cell number\n",
    "Lx = 1e-3 #System length\n",
    "Npart = 50*Nx #particles number, in particle par cell\n",
    "\n",
    "n = 1e17  #[m^-3]\n",
    "dT = 1e-12 #time step\n",
    "\n",
    "Np = 500000;  #Number of particle to create\n",
    "Te = 20;     #[eV] Electron distribution temperature\n",
    "me = 9.109e-31; #[kg] electron mass\n",
    "q = 1.6021765650e-19; #[C] electron charge\n",
    "kb = 1.3806488e-23;  #Blozman constant\n",
    "eps_0 = 8.8548782e-12; #Vaccum permitivitty\n",
    "\n",
    "Ti = 5 #[eV]\n",
    "mi = 131*1.6726219e27 #[kg]\n",
    "\n",
    "L_De = np.sqrt(eps_0*Te/(q*n))"
   ]
  },
  {
   "cell_type": "code",
   "execution_count": 53,
   "metadata": {
    "collapsed": true
   },
   "outputs": [],
   "source": [
    "def generate_maxw(T,m):\n",
    "    import random\n",
    "    v_Te = np.sqrt(q*T/m)\n",
    "\n",
    "    W = 2\n",
    " \n",
    "    \n",
    "    while (W >= 1 or W <= 0):\n",
    "        R1 = (random.random()*2 -1 )\n",
    "        R2 = (random.random()*2 -1 )\n",
    "        \n",
    "        W = R1**2 + R2**2\n",
    "    W = np.sqrt( (-2*np.log(W))/W)\n",
    "        \n",
    "    v = v_Te*R1*W\n",
    "    return v\n",
    "\n",
    "def velocity_maxw_flux(T,m):\n",
    "    import random\n",
    "    v_Te = np.sqrt(q*T/m)\n",
    "\n",
    "    R = random.random()\n",
    "    v = (v_Te*np.sqrt(-np.log(R)))\n",
    "    return v"
   ]
  },
  {
   "cell_type": "code",
   "execution_count": 107,
   "metadata": {
    "code_folding": [
     117
    ],
    "collapsed": true
   },
   "outputs": [],
   "source": [
    "class particles:\n",
    "    \"\"\"a Class with enouth attribute and methode to deal with particles\"\"\"\n",
    "    def __init__(self, Npart,T,m):\n",
    "        \n",
    "        self.T = T\n",
    "        self.m = m\n",
    "        self.Npart = Npart\n",
    "        self.x = np.zeros(Npart)\n",
    "        self.V = np.zeros(Npart)*3\n",
    "        \n",
    "        self.init_part()\n",
    "        \n",
    "    def init_part(self):\n",
    "        \"\"\"Generate uniforme particle, with maxwellian stuff\"\"\"\n",
    "        \n",
    "        from random import random\n",
    "        self.x = np.array([random()*Lx for i in np.arange(Npart)])\n",
    "        \n",
    "        self.V = [[generate_maxw(self.T,self.m),generate_maxw(self.T,self.m),generate_maxw(self.T,self.m)] for i in np.arange(Npart)]\n",
    "        self.V = np.array(self.V)\n",
    "    \n",
    "    def add_uniform_part(self):\n",
    "        \"\"\"Generate one uniforme particle, with maxwellian stuff\"\"\"\n",
    "        \n",
    "        from random import random\n",
    "        self.x = np.append(self.x,random()*Lx)\n",
    "        \n",
    "        self.V = np.append(self.V,\n",
    "                           [[generate_maxw(self.T,self.m),generate_maxw(self.T,self.m),generate_maxw(self.T,self.m)]],\n",
    "                           axis=0)\n",
    "        \n",
    "    def add_flux_part(self):\n",
    "        \"\"\"Generate one particle, with maxwellian flux velocity.\n",
    "        \n",
    "        Position of the particle is with respect to 0, in the positive direction \"\"\"\n",
    "        \n",
    "        from random import random\n",
    "        self.V = np.append(self.V,\n",
    "                           [[velocity_maxw_flux(self.T,self.m),velocity_maxw_flux(self.T,self.m),velocity_maxw_flux(self.T,self.m)]],\n",
    "                           axis=0)\n",
    "                           \n",
    "        \n",
    "        self.x = np.append(self.x,random()*self.V[-1,0]*dT)\n",
    "        \n",
    "        \n",
    "        \n",
    "        \n",
    "class plasma:\n",
    "    \"\"\"a class with fields, parts, and method to pass from one to the other\"\"\"\n",
    "    \n",
    "    def __init__(self,Nx,Npart,n):\n",
    "        \n",
    "        self.history = {'Ie_w' : [],\n",
    "                        'Ii_w' : [],\n",
    "                        'Ie_c' : [],\n",
    "                        'Ii_c' : []\n",
    "                        }\n",
    "        \n",
    "        self.qf = n*Lx/(Npart)\n",
    "        self.ele = particles(Npart,Te,me)\n",
    "        self.ion = particles(Npart,Ti,mi)\n",
    "        \n",
    "        self.E = np.zeros((Nx+1,3))\n",
    "        self.phi = np.zeros(Nx+1)\n",
    "        self.ne = np.zeros((Nx+1))\n",
    "        self.ni = np.zeros((Nx+1))\n",
    "        self.rho = np.zeros((Nx+1))\n",
    "        \n",
    "        self.x_j = np.arange(0,Nx+1)*Lx/(Nx)\n",
    "        self.dx = self.x_j[1]\n",
    "        \n",
    "    def pusher(self):\n",
    "        \"\"\"push the particles\"\"\"\n",
    "        from scipy import interpolate\n",
    "        \n",
    "        for sign,part in zip([-1,1],[self.ele,self.ion]):\n",
    "            E = [interpolate.interp1d(self.x_j,self.E[:,i]) for i in [0,1,2]]\n",
    "            for i in [0,1,2]:\n",
    "                try:\n",
    "                    part.V[:,i] -= sign*q/me*dT*E[i](part.x)\n",
    "                except:\n",
    "                    print(part.x,part.V[:,0],Lx)\n",
    "                    raise ValueError\n",
    "            part.x += part.V[:,0] *dT\n",
    "            \n",
    "        self.boundary()\n",
    "            \n",
    "    def boundary(self):\n",
    "        \"\"\"look at the postition of the particle, and remove them if they are outside\"\"\"\n",
    "        \n",
    "        for key, part in zip(['Ie_w','Ii_w'],[self.ele,self.ion]):\n",
    "            mask = part.x < Lx\n",
    "            part.x = part.x[mask]\n",
    "            part.V = part.V[mask,:]\n",
    "            self.history[key].append(np.count_nonzero(mask==0))\n",
    "            \n",
    "        for key, part in zip(['Ie_c','Ii_c'],[self.ele,self.ion]):\n",
    "            mask = part.x >0\n",
    "            part.x = part.x[mask]\n",
    "            part.V = part.V[mask,:]\n",
    "            self.history[key].append(np.count_nonzero(mask==0))\n",
    "            \n",
    "        self.inject_particles(self.history['Ie_w'][-1],self.history['Ii_w'][-1])\n",
    "            \n",
    "        self.inject_flux(self.history['Ie_c'][-1],self.history['Ii_c'][-1])\n",
    "        \n",
    "    def inject_particles(self,Ne,Ni):\n",
    "        \"\"\"inject particle with maxwellian distribution uniformely in the system\"\"\"\n",
    "        \n",
    "        #Would be better to add an array of particle, not a single one\n",
    "        for i in np.arange(Ne):\n",
    "            self.ele.add_uniform_part()\n",
    "        \n",
    "        for i in np.arange(Ni):\n",
    "            self.ion.add_uniform_part()\n",
    "            \n",
    "    def inject_flux(self,Ne,Ni):\n",
    "        \"\"\"inject particle with maxwellian distribution uniformely in the system\"\"\"\n",
    "        \n",
    "        #Would be better to add an array of particle, not a single one\n",
    "        for i in np.arange(Ne):\n",
    "            self.ele.add_flux_part()\n",
    "            self.ele.V[-1,0] *= -1\n",
    "            self.ele.x[-1] *= -1\n",
    "            self.ele.x[-1] += Lx\n",
    "        \n",
    "        for i in np.arange(Ni):\n",
    "            self.ion.add_flux_part()\n",
    "            self.ion.V[-1,0] *= -1\n",
    "            self.ion.x[-1] *= -1\n",
    "            self.ion.x[-1] += Lx\n",
    "        \n",
    "    def compute_rho(self):\n",
    "        \"\"\"Compute the plasma density via the invers aera method\"\"\"\n",
    "        \n",
    "        \n",
    "        for n, part in zip([self.ne,self.ni],[self.ele,self.ion]):\n",
    "            n[:] = 0\n",
    "            for i in np.arange(part.Npart):\n",
    "                try:\n",
    "                    j = np.argwhere(self.x_j>=part.x[i])[0][0]\n",
    "                except IndexError:\n",
    "                    print(part.x[i])\n",
    "                    j = Nx\n",
    "                \n",
    "                n[j-1] += (pla.x_j[j] - part.x[i])\n",
    "                n[j] += (part.x[i] - pla.x_j[j-1])\n",
    "        \n",
    "        self.ni /= self.dx**2*self.qf; self.ne /= self.dx**2*self.qf\n",
    "        self.rho = self.ni - self.ne\n",
    "        self.rho *= q\n",
    "        \n",
    "\n",
    "    def solve_poisson(self):\n",
    "        \"\"\"solve poisson via the Thomas method :\n",
    "        \n",
    "        TO VALIDATE !!!!\n",
    "        \n",
    "        \n",
    "        A Phi = -rho/eps0 \n",
    "        \n",
    "        \"\"\"\n",
    "        \n",
    "        di = self.rho/eps_0\n",
    "        \n",
    "        bi = - np.ones(self.Nx+1)\n",
    "        bi[1:-2] *= 2\n",
    "        \n",
    "        ai, ci = np.ones(self.Nx+1), np.ones(self.Nx+1)\n",
    "        \n",
    "        ciprim = ci\n",
    "        ciprim[0] /= bi[0]\n",
    "        for i in np.arange(1,self.Nx+1):\n",
    "            ciprim[i] /= bi[i] - ai[i]*ciprim[i-1]\n",
    "        \n",
    "        diprim = di\n",
    "        diprim[0] /= bi[0]\n",
    "        \n",
    "        for i in np.arange(1,self.Nx+1):\n",
    "            diprim[i] -= ai[i]*diprim[i-1]\n",
    "            diprim[i] /= bi[i] - ai[i]*ciprim[i-1]\n",
    "        \n",
    "        self.phi[-1] = diprim[-1]\n",
    "        for i in np.arange(self.Nx,0):\n",
    "            self.phi[i] = diprim[i] - ciprim[i]*self.phi[i+1]\n",
    "            \n",
    "#        #Poisson finished"
   ]
  },
  {
   "cell_type": "code",
   "execution_count": 112,
   "metadata": {},
   "outputs": [
    {
     "data": {
      "text/plain": [
       "[<matplotlib.lines.Line2D at 0x7fd8f095c710>,\n",
       " <matplotlib.lines.Line2D at 0x7fd8f095cac8>,\n",
       " <matplotlib.lines.Line2D at 0x7fd8f095c860>]"
      ]
     },
     "execution_count": 112,
     "metadata": {},
     "output_type": "execute_result"
    },
    {
     "data": {
      "image/png": "[encoded data removed]",
      "text/plain": [
       "<matplotlib.figure.Figure at 0x7fd8f01f2fd0>"
      ]
     },
     "metadata": {},
     "output_type": "display_data"
    }
   ],
   "source": [
    "#Generate plasma\n",
    "Npart = 100*Nx\n",
    "pla = plasma(Nx,Npart,n)\n",
    "#fix Electric field profile\n",
    "pla.E[:,0] = 45e3*np.exp(-pla.x_j/(L_De))\n",
    "pla.compute_rho()\n",
    "plt.plot(pla.E)"
   ]
  },
  {
   "cell_type": "code",
   "execution_count": null,
   "metadata": {},
   "outputs": [
    {
     "name": "stdout",
     "output_type": "stream",
     "text": [
      "100 times a\n",
      "200 times a\n",
      "300 times a\n",
      "400 times a\n"
     ]
    }
   ],
   "source": [
    "#plt.hist(pla.ele.x,label=\"start\",bins=Nx);\n",
    "Nt = 500\n",
    "n_av = 100\n",
    "a = 1.2\n",
    "dT = 1e-10 #time step\n",
    "plt.plot(pla.ne);\n",
    "\n",
    "for i in np.arange(Nt):\n",
    "    pla.pusher()\n",
    "    pla.compute_rho()\n",
    "    \n",
    "    if i > 1 and i%n_av ==0:\n",
    "        ie = pla.history[\"Ie_w\"][-n_av:]\n",
    "        ii = pla.history[\"Ii_w\"][-n_av:]\n",
    "        if ie > ii :\n",
    "            print(i,\"times a\")\n",
    "            pla.E[:,0] *= a\n",
    "        else:\n",
    "            print(i,\"divied by a\")\n",
    "            pla.E[:,0] /= a\n",
    "    \n",
    "        plt.plot(pla.ne);\n"
   ]
  },
  {
   "cell_type": "code",
   "execution_count": 93,
   "metadata": {},
   "outputs": [
    {
     "data": {
      "text/plain": [
       "88"
      ]
     },
     "execution_count": 93,
     "metadata": {},
     "output_type": "execute_result"
    }
   ],
   "source": [
    "np.argwhere(pla.x_j>pla.ele.x[i])"
   ]
  },
  {
   "cell_type": "code",
   "execution_count": 80,
   "metadata": {},
   "outputs": [
    {
     "data": {
      "text/plain": [
       "<matplotlib.legend.Legend at 0x7fd8f0b014e0>"
      ]
     },
     "execution_count": 80,
     "metadata": {},
     "output_type": "execute_result"
    },
    {
     "data": {
      "image/png": "[encoded data removed]",
      "text/plain": [
       "<matplotlib.figure.Figure at 0x7fd8f0b01550>"
      ]
     },
     "metadata": {},
     "output_type": "display_data"
    }
   ],
   "source": [
    "plt.hist(pla.ele.x,label=\"end\",bins=Nx);\n",
    "plt.legend()"
   ]
  },
  {
   "cell_type": "code",
   "execution_count": null,
   "metadata": {
    "collapsed": true
   },
   "outputs": [],
   "source": []
  }
 ],
 "metadata": {
  "kernelspec": {
   "display_name": "Python 3",
   "language": "python",
   "name": "python3"
  },
  "language_info": {
   "codemirror_mode": {
    "name": "ipython",
    "version": 3
   },
   "file_extension": ".py",
   "mimetype": "text/x-python",
   "name": "python",
   "nbconvert_exporter": "python",
   "pygments_lexer": "ipython3",
   "version": "3.5.2"
  },
  "toc": {
   "colors": {
    "hover_highlight": "#DAA520",
    "navigate_num": "#000000",
    "navigate_text": "#333333",
    "running_highlight": "#FF0000",
    "selected_highlight": "#FFD700",
    "sidebar_border": "#EEEEEE",
    "wrapper_background": "#FFFFFF"
   },
   "moveMenuLeft": true,
   "nav_menu": {
    "height": "31px",
    "width": "252px"
   },
   "navigate_menu": true,
   "number_sections": true,
   "sideBar": true,
   "skip_h1_title": false,
   "threshold": 4,
   "toc_cell": false,
   "toc_section_display": "block",
   "toc_window_display": false,
   "widenNotebook": false
  },
  "varInspector": {
   "cols": {
    "lenName": 16,
    "lenType": 16,
    "lenVar": 40
   },
   "kernels_config": {
    "python": {
     "delete_cmd_postfix": "",
     "delete_cmd_prefix": "del ",
     "library": "var_list.py",
     "varRefreshCmd": "print(var_dic_list())"
    },
    "r": {
     "delete_cmd_postfix": ") ",
     "delete_cmd_prefix": "rm(",
     "library": "var_list.r",
     "varRefreshCmd": "cat(var_dic_list()) "
    }
   },
   "types_to_exclude": [
    "module",
    "function",
    "builtin_function_or_method",
    "instance",
    "_Feature"
   ],
   "window_display": false
  }
 },
 "nbformat": 4,
 "nbformat_minor": 2
}
