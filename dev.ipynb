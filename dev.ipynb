{
 "cells": [
  {
   "cell_type": "code",
   "execution_count": 4,
   "metadata": {
    "ExecuteTime": {
     "end_time": "2018-04-03T13:26:38.178708Z",
     "start_time": "2018-04-03T13:26:28.844188Z"
    }
   },
   "outputs": [
    {
     "name": "stdout",
     "output_type": "stream",
     "text": [
      "None\n"
     ]
    }
   ],
   "source": [
    "import tkinter as Tkinter\n",
    "\n",
    "def tester():\n",
    "\n",
    "    class window(Tkinter.Tk):\n",
    "        def __init__(self,parent):\n",
    "            Tkinter.Tk.__init__(self,parent)\n",
    "            self.parent = parent\n",
    "            self.initialize()\n",
    "\n",
    "        def initialize(self):\n",
    "            print(self.grid())\n",
    "            self.button1 = Tkinter.Button(self,text=u\"Button\")\n",
    "            self.button1.grid(padx=5,pady=5)\n",
    "\n",
    "            self.button2 = Tkinter.Button(self,text=u\"Change\",command=self.colourer)\n",
    "            self.button2.grid(column=1,row=0,pady=5)\n",
    "\n",
    "            self.button3 = Tkinter.Button(self,text=u\"Disabled\",state='disabled')\n",
    "            self.button3.grid(column=2,row=0,pady=5)\n",
    "\n",
    "\n",
    "\n",
    "        def colourer(self):\n",
    "            self.button1.configure(bg='red')\n",
    "#           self.button1.config(bg='red')  -- this gives same error\n",
    "#           self.button3.configure(state='normal')  -- as does this\n",
    "    if __name__ == \"__main__\":\n",
    "        app = window(None)\n",
    "        app.title('Tester')\n",
    "        app.mainloop()\n",
    "\n",
    "tester()"
   ]
  },
  {
   "cell_type": "code",
   "execution_count": null,
   "metadata": {
    "ExecuteTime": {
     "end_time": "2018-04-03T12:21:10.016754Z",
     "start_time": "2018-04-03T12:21:10.006424Z"
    }
   },
   "outputs": [],
   "source": [
    "\n"
   ]
  },
  {
   "cell_type": "code",
   "execution_count": null,
   "metadata": {},
   "outputs": [],
   "source": []
  }
 ],
 "metadata": {
  "kernelspec": {
   "display_name": "Python 3",
   "language": "python",
   "name": "python3"
  },
  "language_info": {
   "codemirror_mode": {
    "name": "ipython",
    "version": 3
   },
   "file_extension": ".py",
   "mimetype": "text/x-python",
   "name": "python",
   "nbconvert_exporter": "python",
   "pygments_lexer": "ipython3",
   "version": "3.6.4"
  },
  "latex_envs": {
   "LaTeX_envs_menu_present": true,
   "autoclose": false,
   "autocomplete": true,
   "bibliofile": "biblio.bib",
   "cite_by": "apalike",
   "current_citInitial": 1,
   "eqLabelWithNumbers": true,
   "eqNumInitial": 1,
   "hotkeys": {
    "equation": "Ctrl-E",
    "itemize": "Ctrl-I"
   },
   "labels_anchors": false,
   "latex_user_defs": false,
   "report_style_numbering": false,
   "user_envs_cfg": false
  },
  "toc": {
   "nav_menu": {},
   "number_sections": true,
   "sideBar": true,
   "skip_h1_title": false,
   "title_cell": "Table of Contents",
   "title_sidebar": "Contents",
   "toc_cell": false,
   "toc_position": {},
   "toc_section_display": true,
   "toc_window_display": false
  }
 },
 "nbformat": 4,
 "nbformat_minor": 2
}
