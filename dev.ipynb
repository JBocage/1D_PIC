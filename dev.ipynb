{
 "cells": [
  {
   "cell_type": "code",
   "execution_count": 4,
   "metadata": {
    "ExecuteTime": {
     "end_time": "2018-04-03T13:26:38.178708Z",
     "start_time": "2018-04-03T13:26:28.844188Z"
    }
   },
   "outputs": [
    {
     "name": "stdout",
     "output_type": "stream",
     "text": [
      "None\n"
     ]
    }
   ],
   "source": [
    "import tkinter as Tkinter\n",
    "\n",
    "def tester():\n",
    "\n",
    "    class window(Tkinter.Tk):\n",
    "        def __init__(self,parent):\n",
    "            Tkinter.Tk.__init__(self,parent)\n",
    "            self.parent = parent\n",
    "            self.initialize()\n",
    "\n",
    "        def initialize(self):\n",
    "            print(self.grid())\n",
    "            self.button1 = Tkinter.Button(self,text=u\"Button\")\n",
    "            self.button1.grid(padx=5,pady=5)\n",
    "\n",
    "            self.button2 = Tkinter.Button(self,text=u\"Change\",command=self.colourer)\n",
    "            self.button2.grid(column=1,row=0,pady=5)\n",
    "\n",
    "            self.button3 = Tkinter.Button(self,text=u\"Disabled\",state='disabled')\n",
    "            self.button3.grid(column=2,row=0,pady=5)\n",
    "\n",
    "\n",
    "\n",
    "        def colourer(self):\n",
    "            self.button1.configure(bg='red')\n",
    "#           self.button1.config(bg='red')  -- this gives same error\n",
    "#           self.button3.configure(state='normal')  -- as does this\n",
    "    if __name__ == \"__main__\":\n",
    "        app = window(None)\n",
    "        app.title('Tester')\n",
    "        app.mainloop()\n",
    "\n",
    "tester()"
   ]
  },
  {
   "cell_type": "code",
   "execution_count": 64,
   "metadata": {
    "ExecuteTime": {
     "end_time": "2018-04-06T09:28:53.839824Z",
     "start_time": "2018-04-06T09:28:53.819206Z"
    }
   },
   "outputs": [],
   "source": [
    "import numpy as np\n",
    "Np = 1500*50\n",
    "a1 = np.random.random(Np).tolist()\n",
    "a2 = np.random.random(Np).tolist()\n",
    "\n",
    "x1 = np.random.random(Np)\n",
    "x2 = np.random.random(Np)\n"
   ]
  },
  {
   "cell_type": "code",
   "execution_count": 69,
   "metadata": {
    "ExecuteTime": {
     "end_time": "2018-04-06T09:30:13.307825Z",
     "start_time": "2018-04-06T09:30:13.296650Z"
    }
   },
   "outputs": [],
   "source": [
    "a1 = [i for i in a1 if i > 0.5]"
   ]
  },
  {
   "cell_type": "code",
   "execution_count": 66,
   "metadata": {
    "ExecuteTime": {
     "end_time": "2018-04-06T09:28:54.155273Z",
     "start_time": "2018-04-06T09:28:54.151507Z"
    }
   },
   "outputs": [],
   "source": [
    "x1 = x1[x1>0.5]"
   ]
  },
  {
   "cell_type": "code",
   "execution_count": 100,
   "metadata": {
    "ExecuteTime": {
     "end_time": "2018-04-06T10:16:08.206527Z",
     "start_time": "2018-04-06T10:16:08.010471Z"
    }
   },
   "outputs": [],
   "source": [
    "import numba as nb\n",
    "from numba import jit\n",
    "import time\n",
    "\n",
    "@jit(\"i8(f8[:],f8)\")\n",
    "def popout(x,val):\n",
    "    \"\"\"move elements that do not correspond to the condition\n",
    "    x > val to the end of the table.\n",
    "    \n",
    "    Inputs :\n",
    "    =========\n",
    "    x (In and out) : array of float64\n",
    "    \n",
    "    val: float64 the threshold\n",
    "    \n",
    "    return:\n",
    "    =======\n",
    "    compt: int64 number of elements put at the end of x\n",
    "    \n",
    "    \"\"\"\n",
    "    \n",
    "    #init the parameters\n",
    "    compt = 0\n",
    "    N = len(x)\n",
    "    i = N\n",
    "    #linear search from the end of the table\n",
    "    while i > 0:\n",
    "        if x[i] > val: #Condition to move the element at the end\n",
    "            #exchange the current element with the last\n",
    "            tmp = x[N - compt]\n",
    "            x[N - compt] = x[i]\n",
    "            x[i] = tmp\n",
    "            compt += 1\n",
    "        i -= 1\n",
    "        \n",
    "    return compt\n",
    "\n",
    "@jit(\"f8[:](f8[:],f8)\")\n",
    "def poplist(x,val):\n",
    "    a = [i for i in x if i > val]\n",
    "    return np.array(a)"
   ]
  },
  {
   "cell_type": "code",
   "execution_count": 84,
   "metadata": {
    "ExecuteTime": {
     "end_time": "2018-04-06T09:51:45.374868Z",
     "start_time": "2018-04-06T09:51:45.367507Z"
    }
   },
   "outputs": [],
   "source": [
    "compt = popout(x2,0.5)"
   ]
  },
  {
   "cell_type": "code",
   "execution_count": 93,
   "metadata": {
    "ExecuteTime": {
     "end_time": "2018-04-06T09:57:35.363213Z",
     "start_time": "2018-04-06T09:57:35.356260Z"
    }
   },
   "outputs": [],
   "source": [
    "%matplotlib inline\n",
    "import matplotlib.pyplot as plt\n"
   ]
  },
  {
   "cell_type": "code",
   "execution_count": 103,
   "metadata": {
    "ExecuteTime": {
     "end_time": "2018-04-06T10:16:41.460464Z",
     "start_time": "2018-04-06T10:16:36.243588Z"
    }
   },
   "outputs": [
    {
     "name": "stdout",
     "output_type": "stream",
     "text": [
      "Numba popout: 1.3827 s\n",
      "Numpy mask : 1.5138 s\n",
      "  list     : 1.9386 s\n"
     ]
    },
    {
     "data": {
      "image/png": "[encoded data removed]",
      "text/plain": [
       "<Figure size 432x288 with 1 Axes>"
      ]
     },
     "metadata": {},
     "output_type": "display_data"
    }
   ],
   "source": [
    "Np = 2000*10\n",
    "Ntests = 5000\n",
    "start_time = time.time()\n",
    "for i in range(Ntests):\n",
    "    x = np.random.random(Np)\n",
    "    compt = popout(x,0.5)\n",
    "t =time.time()-start_time\n",
    "print(f\"Numba popout: {t:2.4f} s\")\n",
    "plt.plot(x)\n",
    "\n",
    "start_time = time.time()\n",
    "for i in range(Ntests):\n",
    "    x = np.random.random(Np)\n",
    "    x = x[x>0.5]\n",
    "t =time.time()-start_time\n",
    "print(f\"Numpy mask : {t:2.4f} s\")\n",
    "\n",
    "start_time = time.time()\n",
    "for i in range(Ntests):\n",
    "    x = np.random.random(Np)\n",
    "    x = poplist(x,0.5)\n",
    "\n",
    "t =time.time()-start_time\n",
    "print(f\"  list     : {t:2.4f} s\")"
   ]
  },
  {
   "cell_type": "code",
   "execution_count": null,
   "metadata": {},
   "outputs": [],
   "source": []
  }
 ],
 "metadata": {
  "kernelspec": {
   "display_name": "Python 3",
   "language": "python",
   "name": "python3"
  },
  "language_info": {
   "codemirror_mode": {
    "name": "ipython",
    "version": 3
   },
   "file_extension": ".py",
   "mimetype": "text/x-python",
   "name": "python",
   "nbconvert_exporter": "python",
   "pygments_lexer": "ipython3",
   "version": "3.6.4"
  },
  "latex_envs": {
   "LaTeX_envs_menu_present": true,
   "autoclose": false,
   "autocomplete": true,
   "bibliofile": "biblio.bib",
   "cite_by": "apalike",
   "current_citInitial": 1,
   "eqLabelWithNumbers": true,
   "eqNumInitial": 1,
   "hotkeys": {
    "equation": "Ctrl-E",
    "itemize": "Ctrl-I"
   },
   "labels_anchors": false,
   "latex_user_defs": false,
   "report_style_numbering": false,
   "user_envs_cfg": false
  },
  "toc": {
   "nav_menu": {},
   "number_sections": true,
   "sideBar": true,
   "skip_h1_title": false,
   "title_cell": "Table of Contents",
   "title_sidebar": "Contents",
   "toc_cell": false,
   "toc_position": {},
   "toc_section_display": true,
   "toc_window_display": false
  }
 },
 "nbformat": 4,
 "nbformat_minor": 2
}
