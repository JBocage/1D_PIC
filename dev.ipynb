{
 "cells": [
  {
   "cell_type": "code",
   "execution_count": 30,
   "metadata": {
    "ExecuteTime": {
     "end_time": "2018-04-03T12:05:38.220097Z",
     "start_time": "2018-04-03T12:05:30.344929Z"
    }
   },
   "outputs": [
    {
     "name": "stdout",
     "output_type": "stream",
     "text": [
      "Greetings!\n"
     ]
    }
   ],
   "source": [
    "from tkinter import Tk, Label, Button, Frame, Text, INSERT, END, BOTH\n",
    "\n",
    "class MyFirstGUI(Frame):\n",
    "    def __init__(self, master = None):\n",
    "        \n",
    "        # parameters that you want to send through the Frame class. \n",
    "        Frame.__init__(self, master)\n",
    "        \n",
    "        self.master = master\n",
    "        \n",
    "        self.master.title(\"GUI\")\n",
    "        self.pack(fill=\"both\", expand=1)\n",
    "        \n",
    "        self.showText()\n",
    "        \n",
    "        self.label = Label(master, text=\"This is our first GUI!\")\n",
    "        self.label.pack()\n",
    "\n",
    "        self.greet_button = Button(master, text=\"Greet\", command=self.greet)\n",
    "        self.greet_button.pack()\n",
    "\n",
    "        self.close_button = Button(master, text=\"Close\", command=self.client_exit)\n",
    "        self.close_button.pack()\n",
    "        \n",
    "        \n",
    "\n",
    "    def greet(self):\n",
    "        print(\"Greetings!\")\n",
    "        \n",
    "    def client_exit(self):\n",
    "        self.quit()\n",
    "        \n",
    "    def showText(self):\n",
    "        text = Text(self.master, height = 1)\n",
    "        text.insert(INSERT, \"Hello.....\")\n",
    "        text.insert(END, \"Bye Bye.....\")\n",
    "        text.pack()\n",
    "        \n",
    "        self.greet_button = Button(self.master, text=\"Greet\", command=self.greet)\n",
    "        self.greet_button.pack()\n",
    "\n",
    "root = Tk()\n",
    "#size of the window\n",
    "root.geometry(\"400x300\")\n",
    "my_gui = MyFirstGUI(root)\n",
    "\n",
    "root.mainloop()"
   ]
  },
  {
   "cell_type": "code",
   "execution_count": 1,
   "metadata": {
    "ExecuteTime": {
     "end_time": "2018-04-03T12:33:29.666679Z",
     "start_time": "2018-04-03T12:33:14.199573Z"
    }
   },
   "outputs": [
    {
     "name": "stdout",
     "output_type": "stream",
     "text": [
      "~~~~~~ Initialisation of Plasma simulation ~~~~~~~~~~\n",
      "time step dT = 1000000000000.00 10^-12 s, wpe = 7927409079.25 10^-12 s\n",
      "mesh step dX = 1500000.00 mu m, LDe = 8143793097.97\n",
      " Let's go !!\n",
      "The initialisation as not been validated  :'(\n"
     ]
    }
   ],
   "source": [
    "from imp import reload\n",
    "\n",
    "import matplotlib.pyplot as plt\n",
    "%matplotlib inline\n",
    "\n",
    "import pic\n",
    "\n",
    "from pic.plasma import plasma\n",
    "from pic.particles import particles\n",
    "\n",
    "from pic.functions import generate_maxw, velocity_maxw_flux, max_vect, fux_vect, numba_return_density, smooth\n",
    "from pic.constantes import (me, q,kb,eps_0,mi)\n",
    "\n",
    "reload(pic)\n",
    "reload(pic.plasma)\n",
    "reload(pic.particles)\n",
    "reload(pic.functions)\n",
    "reload(pic.constantes)\n",
    "\n",
    "\n",
    "pla = plasma(1,2,3,4,5,6,7)"
   ]
  },
  {
   "cell_type": "code",
   "execution_count": null,
   "metadata": {
    "ExecuteTime": {
     "end_time": "2018-04-03T12:21:10.016754Z",
     "start_time": "2018-04-03T12:21:10.006424Z"
    }
   },
   "outputs": [],
   "source": [
    "\n"
   ]
  },
  {
   "cell_type": "code",
   "execution_count": null,
   "metadata": {},
   "outputs": [],
   "source": []
  }
 ],
 "metadata": {
  "kernelspec": {
   "display_name": "Python 3",
   "language": "python",
   "name": "python3"
  },
  "language_info": {
   "codemirror_mode": {
    "name": "ipython",
    "version": 3
   },
   "file_extension": ".py",
   "mimetype": "text/x-python",
   "name": "python",
   "nbconvert_exporter": "python",
   "pygments_lexer": "ipython3",
   "version": "3.6.4"
  },
  "latex_envs": {
   "LaTeX_envs_menu_present": true,
   "autoclose": false,
   "autocomplete": true,
   "bibliofile": "biblio.bib",
   "cite_by": "apalike",
   "current_citInitial": 1,
   "eqLabelWithNumbers": true,
   "eqNumInitial": 1,
   "hotkeys": {
    "equation": "Ctrl-E",
    "itemize": "Ctrl-I"
   },
   "labels_anchors": false,
   "latex_user_defs": false,
   "report_style_numbering": false,
   "user_envs_cfg": false
  },
  "toc": {
   "nav_menu": {},
   "number_sections": true,
   "sideBar": true,
   "skip_h1_title": false,
   "title_cell": "Table of Contents",
   "title_sidebar": "Contents",
   "toc_cell": false,
   "toc_position": {},
   "toc_section_display": true,
   "toc_window_display": false
  }
 },
 "nbformat": 4,
 "nbformat_minor": 2
}
