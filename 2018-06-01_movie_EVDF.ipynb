{
 "cells": [
  {
   "cell_type": "code",
   "execution_count": 1,
   "metadata": {
    "ExecuteTime": {
     "end_time": "2018-06-03T14:45:04.541192Z",
     "start_time": "2018-06-03T14:45:03.930664Z"
    }
   },
   "outputs": [],
   "source": [
    "from __future__ import print_function\n",
    "from IPython.display import display\n",
    "from ipywidgets import *\n",
    "from traitlets import *\n",
    "\n",
    "%matplotlib inline\n",
    "\n",
    "import numpy as np\n",
    "import bqplot as bq\n",
    "from bqplot import pyplot as plt\n",
    "\n",
    "import h5py as hp"
   ]
  },
  {
   "cell_type": "code",
   "execution_count": 22,
   "metadata": {
    "ExecuteTime": {
     "end_time": "2018-06-03T14:49:43.004450Z",
     "start_time": "2018-06-03T14:49:42.930962Z"
    },
    "code_folding": []
   },
   "outputs": [],
   "source": [
    "\n",
    "fileName = \"cases/inft_sh/runMirrorLonguer2.h5\"\n",
    "fileName = \"cases/inft_sh/runQe.h5\"\n",
    "key = \"Qe\"\n",
    "def init_display():\n",
    "    f = hp.File(fileName,\"r\")\n",
    "\n",
    "    lines = []\n",
    "    xaxs = []\n",
    "    yaxs = []\n",
    "    colors = ['green']\n",
    "    hist0 = snap(0,f,key)\n",
    "    NX  = hist0.size\n",
    "    \n",
    "    x_sc, y_sc = bq.LinearScale(), bq.LinearScale(min = -2e7, max = 2e7) \n",
    "    ax_x = bq.Axis(label='v', scale=x_sc, tick_format='2.1e')\n",
    "    ax_y = bq.Axis(label='f(v)', scale=y_sc, orientation='vertical', tick_format='2.1e')\n",
    "    \n",
    "    color = colors[0]\n",
    "\n",
    "    x = np.linspace(-1e7,1e7,NX)\n",
    "    y = snap(0,f,key)\n",
    "\n",
    "    line = bq.Lines(x=x, y=y, scales={'x': x_sc, 'y': y_sc}, colors = [color], line_style= 'solid')\n",
    "    lines.append(line)\n",
    "\n",
    "    line = bq.Lines(x=x, y=y, scales={'x': x_sc, 'y': y_sc}, colors = ['red'], line_style= 'solid')\n",
    "    lines.append(line)        \n",
    "\n",
    "    fig = bq.Figure(marks=lines, axes=[ax_x, ax_y], animation_duration=100)\n",
    "    display(fig)\n",
    "    \n",
    "    return lines, f"
   ]
  },
  {
   "cell_type": "code",
   "execution_count": 29,
   "metadata": {
    "ExecuteTime": {
     "end_time": "2018-06-03T14:50:34.296126Z",
     "start_time": "2018-06-03T14:50:34.276589Z"
    },
    "code_folding": []
   },
   "outputs": [],
   "source": [
    "def snap(i,f,key):\n",
    "    \"\"\"read the HDF5 file f in order to calculate the mean\"\"\n",
    "    \"\"\"\n",
    "    groupNames = [k for k in f.keys()]\n",
    "    groupNames.sort(key=float)\n",
    "    datasetNames = [k for k in f[groupNames[0]].keys()]\n",
    "    \n",
    "    if key not in datasetNames:\n",
    "        raise NameError('Wrong HDF5 key for dataset !'+key+\" is not in \"+str(datasetNames) )\n",
    "    N = 50\n",
    "    tab = sum([f[groupNames[i]][key][()] for k in range(i+1,i+N+1)])/N\n",
    "        \n",
    "    return tab"
   ]
  },
  {
   "cell_type": "code",
   "execution_count": 30,
   "metadata": {
    "ExecuteTime": {
     "end_time": "2018-06-03T14:50:35.181532Z",
     "start_time": "2018-06-03T14:50:34.893129Z"
    }
   },
   "outputs": [
    {
     "data": {
      "application/vnd.jupyter.widget-view+json": {
       "model_id": "b7b61f615f674d0dbb99e2b19e61c926",
       "version_major": 2,
       "version_minor": 0
      },
      "text/html": [
       "<p>Failed to display Jupyter Widget of type <code>Figure</code>.</p>\n",
       "<p>\n",
       "  If you're reading this message in the Jupyter Notebook or JupyterLab Notebook, it may mean\n",
       "  that the widgets JavaScript is still loading. If this message persists, it\n",
       "  likely means that the widgets JavaScript library is either not installed or\n",
       "  not enabled. See the <a href=\"https://ipywidgets.readthedocs.io/en/stable/user_install.html\">Jupyter\n",
       "  Widgets Documentation</a> for setup instructions.\n",
       "</p>\n",
       "<p>\n",
       "  If you're reading this message in another frontend (for example, a static\n",
       "  rendering on GitHub or <a href=\"https://nbviewer.jupyter.org/\">NBViewer</a>),\n",
       "  it may mean that your frontend doesn't currently support widgets.\n",
       "</p>\n"
      ],
      "text/plain": [
       "Figure(animation_duration=100, axes=[Axis(label='v', scale=LinearScale(), tick_format='2.1e'), Axis(label='f(v)', orientation='vertical', scale=LinearScale(max=20000000.0, min=-20000000.0), tick_format='2.1e')], fig_margin={'top': 60, 'bottom': 60, 'left': 60, 'right': 60}, layout=Layout(min_width='125px'), marks=[Lines(colors=['green'], interactions={'hover': 'tooltip'}, scales={'x': LinearScale(), 'y': LinearScale(max=20000000.0, min=-20000000.0)}, scales_metadata={'x': {'orientation': 'horizontal', 'dimension': 'x'}, 'y': {'orientation': 'vertical', 'dimension': 'y'}, 'color': {'dimension': 'color'}}, tooltip_style={'opacity': 0.9}, x=array([-10000000.        ,  -9989994.99749875,  -9979989.9949975 , ...,\n",
       "         9979989.9949975 ,   9989994.99749875,  10000000.        ]), y=array([0., 0., 0., ..., 0., 0., 0.])), Lines(colors=['red'], interactions={'hover': 'tooltip'}, scales={'x': LinearScale(), 'y': LinearScale(max=20000000.0, min=-20000000.0)}, scales_metadata={'x': {'orientation': 'horizontal', 'dimension': 'x'}, 'y': {'orientation': 'vertical', 'dimension': 'y'}, 'color': {'dimension': 'color'}}, tooltip_style={'opacity': 0.9}, x=array([-10000000.        ,  -9989994.99749875,  -9979989.9949975 , ...,\n",
       "         9979989.9949975 ,   9989994.99749875,  10000000.        ]), y=array([0., 0., 0., ..., 0., 0., 0.]))], scale_x=LinearScale(allow_padding=False, max=1.0, min=0.0), scale_y=LinearScale(allow_padding=False, max=1.0, min=0.0))"
      ]
     },
     "metadata": {},
     "output_type": "display_data"
    },
    {
     "name": "stdout",
     "output_type": "stream",
     "text": [
      "3045\n"
     ]
    },
    {
     "data": {
      "application/vnd.jupyter.widget-view+json": {
       "model_id": "be872be0668644e393d7efb00788e719",
       "version_major": 2,
       "version_minor": 0
      },
      "text/html": [
       "<p>Failed to display Jupyter Widget of type <code>interactive</code>.</p>\n",
       "<p>\n",
       "  If you're reading this message in the Jupyter Notebook or JupyterLab Notebook, it may mean\n",
       "  that the widgets JavaScript is still loading. If this message persists, it\n",
       "  likely means that the widgets JavaScript library is either not installed or\n",
       "  not enabled. See the <a href=\"https://ipywidgets.readthedocs.io/en/stable/user_install.html\">Jupyter\n",
       "  Widgets Documentation</a> for setup instructions.\n",
       "</p>\n",
       "<p>\n",
       "  If you're reading this message in another frontend (for example, a static\n",
       "  rendering on GitHub or <a href=\"https://nbviewer.jupyter.org/\">NBViewer</a>),\n",
       "  it may mean that your frontend doesn't currently support widgets.\n",
       "</p>\n"
      ],
      "text/plain": [
       "interactive(children=(Play(value=0, description='Press play', max=3045), Output()), _dom_classes=('widget-interact',))"
      ]
     },
     "metadata": {},
     "output_type": "display_data"
    },
    {
     "data": {
      "application/vnd.jupyter.widget-view+json": {
       "model_id": "543b098a22df4389aa3175cb14e2cd07",
       "version_major": 2,
       "version_minor": 0
      },
      "text/html": [
       "<p>Failed to display Jupyter Widget of type <code>IntSlider</code>.</p>\n",
       "<p>\n",
       "  If you're reading this message in the Jupyter Notebook or JupyterLab Notebook, it may mean\n",
       "  that the widgets JavaScript is still loading. If this message persists, it\n",
       "  likely means that the widgets JavaScript library is either not installed or\n",
       "  not enabled. See the <a href=\"https://ipywidgets.readthedocs.io/en/stable/user_install.html\">Jupyter\n",
       "  Widgets Documentation</a> for setup instructions.\n",
       "</p>\n",
       "<p>\n",
       "  If you're reading this message in another frontend (for example, a static\n",
       "  rendering on GitHub or <a href=\"https://nbviewer.jupyter.org/\">NBViewer</a>),\n",
       "  it may mean that your frontend doesn't currently support widgets.\n",
       "</p>\n"
      ],
      "text/plain": [
       "IntSlider(value=0, max=3045)"
      ]
     },
     "metadata": {},
     "output_type": "display_data"
    }
   ],
   "source": [
    "lines,f = init_display()\n",
    "Nt = len([f for f in f.keys()]) - 1\n",
    "dt =1e-12\n",
    "print(Nt)\n",
    "play = widgets.Play(\n",
    "    value=0,\n",
    "    min=0,\n",
    "    max=Nt,\n",
    "    step=1,\n",
    "    description=\"Press play\")\n",
    "\n",
    "@interact(i=play)          # widgets.IntSlider(min=0,max=Nt,step=1,value=0,continuous_update=True))\n",
    "def update_plot(i):\n",
    "\n",
    "    Xvec = lines[0].x\n",
    "    display(f\"t = {i*dt:2.3e}s over {Nt*dt:2.1e}s\")\n",
    "    f_v = snap(i,f,\"Qe\")\n",
    "    lines[0].y = f_v\n",
    "    plt.title(f\"{i}\")\n",
    "    \n",
    "    \n",
    "    \n",
    "slider = widgets.IntSlider(value=0,min=0,max=Nt,step=1,)\n",
    "widgets.jslink((play, 'value'), (slider, 'value'))\n",
    "display(slider)"
   ]
  },
  {
   "cell_type": "code",
   "execution_count": null,
   "metadata": {},
   "outputs": [],
   "source": []
  }
 ],
 "metadata": {
  "hide_input": false,
  "kernelspec": {
   "display_name": "Python 3",
   "language": "python",
   "name": "python3"
  },
  "language_info": {
   "codemirror_mode": {
    "name": "ipython",
    "version": 3
   },
   "file_extension": ".py",
   "mimetype": "text/x-python",
   "name": "python",
   "nbconvert_exporter": "python",
   "pygments_lexer": "ipython3",
   "version": "3.6.5"
  },
  "latex_envs": {
   "LaTeX_envs_menu_present": true,
   "autoclose": false,
   "autocomplete": true,
   "bibliofile": "biblio.bib",
   "cite_by": "apalike",
   "current_citInitial": 1,
   "eqLabelWithNumbers": true,
   "eqNumInitial": 1,
   "hotkeys": {
    "equation": "Ctrl-E",
    "itemize": "Ctrl-I"
   },
   "labels_anchors": false,
   "latex_user_defs": false,
   "report_style_numbering": false,
   "user_envs_cfg": false
  },
  "toc": {
   "nav_menu": {},
   "number_sections": true,
   "sideBar": true,
   "skip_h1_title": false,
   "title_cell": "Table of Contents",
   "title_sidebar": "Contents",
   "toc_cell": false,
   "toc_position": {},
   "toc_section_display": true,
   "toc_window_display": false
  }
 },
 "nbformat": 4,
 "nbformat_minor": 2
}
