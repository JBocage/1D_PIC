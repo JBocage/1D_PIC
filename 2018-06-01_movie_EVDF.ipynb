{
 "cells": [
  {
   "cell_type": "code",
   "execution_count": 1,
   "metadata": {
    "ExecuteTime": {
     "end_time": "2018-06-01T12:48:25.106292Z",
     "start_time": "2018-06-01T12:48:24.650438Z"
    }
   },
   "outputs": [],
   "source": [
    "from __future__ import print_function\n",
    "from IPython.display import display\n",
    "from ipywidgets import *\n",
    "from traitlets import *\n",
    "\n",
    "%matplotlib inline\n",
    "\n",
    "import numpy as np\n",
    "import bqplot as bq\n",
    "from bqplot import pyplot as plt\n",
    "\n",
    "import h5py as hp"
   ]
  },
  {
   "cell_type": "code",
   "execution_count": 2,
   "metadata": {
    "ExecuteTime": {
     "end_time": "2018-06-01T12:48:32.748450Z",
     "start_time": "2018-06-01T12:48:32.703940Z"
    },
    "code_folding": [
     0
    ]
   },
   "outputs": [],
   "source": [
    "def init_display():\n",
    "    fileName = \"cases/inft_sh/runMirrorLonguer2.h5\"\n",
    "    f = hp.File(fileName,\"r\")\n",
    "\n",
    "    lines = []\n",
    "    xaxs = []\n",
    "    yaxs = []\n",
    "    colors = ['green']\n",
    "    NX  = snap(0,f,\"hist\").size\n",
    "    \n",
    "    x_sc, y_sc = bq.LinearScale(), bq.LinearScale(min = 0, max = 1e4) \n",
    "    ax_x = bq.Axis(label='v', scale=x_sc, tick_format='2.1e')\n",
    "    ax_y = bq.Axis(label='f(v)', scale=y_sc, orientation='vertical', tick_format='2.1e')\n",
    "    \n",
    "    color = colors[0]\n",
    "\n",
    "    x = np.linspace(-1e7,1e7,NX)\n",
    "    y = snap(0,f,\"hist\")\n",
    "\n",
    "    line = bq.Lines(x=x, y=y, scales={'x': x_sc, 'y': y_sc}, colors = [color], line_style= 'solid')\n",
    "    lines.append(line)\n",
    "\n",
    "    line = bq.Lines(x=x, y=y, scales={'x': x_sc, 'y': y_sc}, colors = ['red'], line_style= 'solid')\n",
    "    lines.append(line)        \n",
    "\n",
    "    fig = bq.Figure(marks=lines, axes=[ax_x, ax_y], animation_duration=100)\n",
    "    display(fig)\n",
    "    \n",
    "    return lines, f"
   ]
  },
  {
   "cell_type": "code",
   "execution_count": 3,
   "metadata": {
    "ExecuteTime": {
     "end_time": "2018-06-01T12:48:40.407979Z",
     "start_time": "2018-06-01T12:48:40.377701Z"
    },
    "code_folding": [
     0
    ]
   },
   "outputs": [],
   "source": [
    "def snap(i,f,key):\n",
    "    \"\"\"read the HDF5 file f in order to calculate the mean\"\"\n",
    "    \"\"\"\n",
    "    groupNames = [k for k in f.keys()]\n",
    "    groupNames.sort(key=float)\n",
    "    datasetNames = [k for k in f[groupNames[0]].keys()]\n",
    "    \n",
    "    if key not in datasetNames:\n",
    "        raise NameError('Wrong HDF5 key for dataset !'+key+\" is not in \"+str(datasetNames) )\n",
    "   \n",
    "    tab = f[groupNames[i]][key][()]\n",
    "        \n",
    "    return tab"
   ]
  },
  {
   "cell_type": "code",
   "execution_count": 7,
   "metadata": {
    "ExecuteTime": {
     "end_time": "2018-06-01T12:49:53.998016Z",
     "start_time": "2018-06-01T12:49:53.882751Z"
    }
   },
   "outputs": [
    {
     "data": {
      "application/vnd.jupyter.widget-view+json": {
       "model_id": "0b5d7cb02b404ca18fcf60caf9aaf462",
       "version_major": 2,
       "version_minor": 0
      },
      "text/html": [
       "<p>Failed to display Jupyter Widget of type <code>Figure</code>.</p>\n",
       "<p>\n",
       "  If you're reading this message in the Jupyter Notebook or JupyterLab Notebook, it may mean\n",
       "  that the widgets JavaScript is still loading. If this message persists, it\n",
       "  likely means that the widgets JavaScript library is either not installed or\n",
       "  not enabled. See the <a href=\"https://ipywidgets.readthedocs.io/en/stable/user_install.html\">Jupyter\n",
       "  Widgets Documentation</a> for setup instructions.\n",
       "</p>\n",
       "<p>\n",
       "  If you're reading this message in another frontend (for example, a static\n",
       "  rendering on GitHub or <a href=\"https://nbviewer.jupyter.org/\">NBViewer</a>),\n",
       "  it may mean that your frontend doesn't currently support widgets.\n",
       "</p>\n"
      ],
      "text/plain": [
       "Figure(animation_duration=100, axes=[Axis(label='v', scale=LinearScale(), tick_format='2.1e'), Axis(label='f(v)', orientation='vertical', scale=LinearScale(max=10000.0, min=0.0), tick_format='2.1e')], fig_margin={'top': 60, 'bottom': 60, 'left': 60, 'right': 60}, layout=Layout(min_width='125px'), marks=[Lines(colors=['green'], interactions={'hover': 'tooltip'}, scales={'x': LinearScale(), 'y': LinearScale(max=10000.0, min=0.0)}, scales_metadata={'x': {'orientation': 'horizontal', 'dimension': 'x'}, 'y': {'orientation': 'vertical', 'dimension': 'y'}, 'color': {'dimension': 'color'}}, tooltip_style={'opacity': 0.9}, x=array([-10000000.        ,  -9797979.7979798 ,  -9595959.5959596 ,\n",
       "        -9393939.39393939,  -9191919.19191919,  -8989898.98989899,\n",
       "        -8787878.78787879,  -8585858.58585859,  -8383838.38383838,\n",
       "        -8181818.18181818,  -7979797.97979798,  -7777777.77777778,\n",
       "        -7575757.57575758,  -7373737.37373737,  -7171717.17171717,\n",
       "        -6969696.96969697,  -6767676.76767677,  -6565656.56565657,\n",
       "        -6363636.36363636,  -6161616.16161616,  -5959595.95959596,\n",
       "        -5757575.75757576,  -5555555.55555556,  -5353535.35353535,\n",
       "        -5151515.15151515,  -4949494.94949495,  -4747474.74747475,\n",
       "        -4545454.54545455,  -4343434.34343434,  -4141414.14141414,\n",
       "        -3939393.93939394,  -3737373.73737374,  -3535353.53535354,\n",
       "        -3333333.33333333,  -3131313.13131313,  -2929292.92929293,\n",
       "        -2727272.72727273,  -2525252.52525253,  -2323232.32323232,\n",
       "        -2121212.12121212,  -1919191.91919192,  -1717171.71717172,\n",
       "        -1515151.51515152,  -1313131.31313131,  -1111111.11111111,\n",
       "         -909090.90909091,   -707070.70707071,   -505050.50505051,\n",
       "         -303030.3030303 ,   -101010.1010101 ,    101010.1010101 ,\n",
       "          303030.3030303 ,    505050.5050505 ,    707070.70707071,\n",
       "          909090.90909091,   1111111.11111111,   1313131.31313131,\n",
       "         1515151.51515151,   1717171.71717172,   1919191.91919192,\n",
       "         2121212.12121212,   2323232.32323232,   2525252.52525252,\n",
       "         2727272.72727273,   2929292.92929293,   3131313.13131313,\n",
       "         3333333.33333333,   3535353.53535353,   3737373.73737374,\n",
       "         3939393.93939394,   4141414.14141414,   4343434.34343434,\n",
       "         4545454.54545454,   4747474.74747475,   4949494.94949495,\n",
       "         5151515.15151515,   5353535.35353535,   5555555.55555555,\n",
       "         5757575.75757576,   5959595.95959596,   6161616.16161616,\n",
       "         6363636.36363636,   6565656.56565657,   6767676.76767677,\n",
       "         6969696.96969697,   7171717.17171717,   7373737.37373737,\n",
       "         7575757.57575757,   7777777.77777778,   7979797.97979798,\n",
       "         8181818.18181818,   8383838.38383838,   8585858.58585858,\n",
       "         8787878.78787879,   8989898.98989899,   9191919.19191919,\n",
       "         9393939.39393939,   9595959.5959596 ,   9797979.7979798 ,\n",
       "        10000000.        ]), y=array([9.50000000e-04, 6.00000000e-04, 5.00000000e-04, 2.75000000e-03,\n",
       "       8.65000000e-03, 5.06000000e-02, 1.96275000e-01, 3.46200000e-01,\n",
       "       4.53700000e-01, 8.02225000e-01, 1.26082500e+00, 1.61815000e+00,\n",
       "       2.33772500e+00, 4.45075000e+00, 6.24347500e+00, 9.25100000e+00,\n",
       "       1.40020750e+01, 1.96468750e+01, 2.80506250e+01, 3.79277000e+01,\n",
       "       5.37643250e+01, 7.27704750e+01, 1.00894775e+02, 1.36733100e+02,\n",
       "       1.71037400e+02, 2.18022775e+02, 3.00668375e+02, 3.93611350e+02,\n",
       "       4.97788925e+02, 6.34962675e+02, 7.84745775e+02, 9.62438425e+02,\n",
       "       1.19542340e+03, 1.47485278e+03, 1.75043057e+03, 2.08655292e+03,\n",
       "       2.41827930e+03, 2.78126425e+03, 3.25413120e+03, 3.70736730e+03,\n",
       "       4.22062513e+03, 4.75115135e+03, 5.26899107e+03, 5.79105048e+03,\n",
       "       6.24706917e+03, 6.73124340e+03, 7.19267188e+03, 7.52699165e+03,\n",
       "       7.77444125e+03, 8.00696480e+03, 8.17634198e+03, 8.25315515e+03,\n",
       "       8.24456345e+03, 8.14902492e+03, 7.95759385e+03, 7.59130832e+03,\n",
       "       7.24123895e+03, 6.86829565e+03, 6.43663660e+03, 6.01601410e+03,\n",
       "       5.50702085e+03, 4.85410478e+03, 4.36401725e+03, 3.84844598e+03,\n",
       "       3.40208143e+03, 2.99868240e+03, 2.61647200e+03, 2.20348795e+03,\n",
       "       1.83397435e+03, 1.55425373e+03, 1.29454253e+03, 1.07096073e+03,\n",
       "       8.80131900e+02, 6.77801700e+02, 5.35321100e+02, 4.25479725e+02,\n",
       "       3.26275950e+02, 2.50744000e+02, 1.86055975e+02, 1.39111825e+02,\n",
       "       1.02918400e+02, 7.80560500e+01, 5.61975250e+01, 3.89838000e+01,\n",
       "       2.79815250e+01, 2.00077000e+01, 1.39426500e+01, 8.92225000e+00,\n",
       "       6.14015000e+00, 4.89037500e+00, 3.15522500e+00, 2.53142500e+00,\n",
       "       2.06880000e+00, 9.15200000e-01, 3.94450000e-01, 2.80125000e-01,\n",
       "       2.64350000e-01, 1.05750000e-01, 5.62500000e-03, 3.75000000e-03])), Lines(colors=['red'], interactions={'hover': 'tooltip'}, scales={'x': LinearScale(), 'y': LinearScale(max=10000.0, min=0.0)}, scales_metadata={'x': {'orientation': 'horizontal', 'dimension': 'x'}, 'y': {'orientation': 'vertical', 'dimension': 'y'}, 'color': {'dimension': 'color'}}, tooltip_style={'opacity': 0.9}, x=array([-10000000.        ,  -9797979.7979798 ,  -9595959.5959596 ,\n",
       "        -9393939.39393939,  -9191919.19191919,  -8989898.98989899,\n",
       "        -8787878.78787879,  -8585858.58585859,  -8383838.38383838,\n",
       "        -8181818.18181818,  -7979797.97979798,  -7777777.77777778,\n",
       "        -7575757.57575758,  -7373737.37373737,  -7171717.17171717,\n",
       "        -6969696.96969697,  -6767676.76767677,  -6565656.56565657,\n",
       "        -6363636.36363636,  -6161616.16161616,  -5959595.95959596,\n",
       "        -5757575.75757576,  -5555555.55555556,  -5353535.35353535,\n",
       "        -5151515.15151515,  -4949494.94949495,  -4747474.74747475,\n",
       "        -4545454.54545455,  -4343434.34343434,  -4141414.14141414,\n",
       "        -3939393.93939394,  -3737373.73737374,  -3535353.53535354,\n",
       "        -3333333.33333333,  -3131313.13131313,  -2929292.92929293,\n",
       "        -2727272.72727273,  -2525252.52525253,  -2323232.32323232,\n",
       "        -2121212.12121212,  -1919191.91919192,  -1717171.71717172,\n",
       "        -1515151.51515152,  -1313131.31313131,  -1111111.11111111,\n",
       "         -909090.90909091,   -707070.70707071,   -505050.50505051,\n",
       "         -303030.3030303 ,   -101010.1010101 ,    101010.1010101 ,\n",
       "          303030.3030303 ,    505050.5050505 ,    707070.70707071,\n",
       "          909090.90909091,   1111111.11111111,   1313131.31313131,\n",
       "         1515151.51515151,   1717171.71717172,   1919191.91919192,\n",
       "         2121212.12121212,   2323232.32323232,   2525252.52525252,\n",
       "         2727272.72727273,   2929292.92929293,   3131313.13131313,\n",
       "         3333333.33333333,   3535353.53535353,   3737373.73737374,\n",
       "         3939393.93939394,   4141414.14141414,   4343434.34343434,\n",
       "         4545454.54545454,   4747474.74747475,   4949494.94949495,\n",
       "         5151515.15151515,   5353535.35353535,   5555555.55555555,\n",
       "         5757575.75757576,   5959595.95959596,   6161616.16161616,\n",
       "         6363636.36363636,   6565656.56565657,   6767676.76767677,\n",
       "         6969696.96969697,   7171717.17171717,   7373737.37373737,\n",
       "         7575757.57575757,   7777777.77777778,   7979797.97979798,\n",
       "         8181818.18181818,   8383838.38383838,   8585858.58585858,\n",
       "         8787878.78787879,   8989898.98989899,   9191919.19191919,\n",
       "         9393939.39393939,   9595959.5959596 ,   9797979.7979798 ,\n",
       "        10000000.        ]), y=array([9.50000000e-04, 6.00000000e-04, 5.00000000e-04, 2.75000000e-03,\n",
       "       8.65000000e-03, 5.06000000e-02, 1.96275000e-01, 3.46200000e-01,\n",
       "       4.53700000e-01, 8.02225000e-01, 1.26082500e+00, 1.61815000e+00,\n",
       "       2.33772500e+00, 4.45075000e+00, 6.24347500e+00, 9.25100000e+00,\n",
       "       1.40020750e+01, 1.96468750e+01, 2.80506250e+01, 3.79277000e+01,\n",
       "       5.37643250e+01, 7.27704750e+01, 1.00894775e+02, 1.36733100e+02,\n",
       "       1.71037400e+02, 2.18022775e+02, 3.00668375e+02, 3.93611350e+02,\n",
       "       4.97788925e+02, 6.34962675e+02, 7.84745775e+02, 9.62438425e+02,\n",
       "       1.19542340e+03, 1.47485278e+03, 1.75043057e+03, 2.08655292e+03,\n",
       "       2.41827930e+03, 2.78126425e+03, 3.25413120e+03, 3.70736730e+03,\n",
       "       4.22062513e+03, 4.75115135e+03, 5.26899107e+03, 5.79105048e+03,\n",
       "       6.24706917e+03, 6.73124340e+03, 7.19267188e+03, 7.52699165e+03,\n",
       "       7.77444125e+03, 8.00696480e+03, 8.17634198e+03, 8.25315515e+03,\n",
       "       8.24456345e+03, 8.14902492e+03, 7.95759385e+03, 7.59130832e+03,\n",
       "       7.24123895e+03, 6.86829565e+03, 6.43663660e+03, 6.01601410e+03,\n",
       "       5.50702085e+03, 4.85410478e+03, 4.36401725e+03, 3.84844598e+03,\n",
       "       3.40208143e+03, 2.99868240e+03, 2.61647200e+03, 2.20348795e+03,\n",
       "       1.83397435e+03, 1.55425373e+03, 1.29454253e+03, 1.07096073e+03,\n",
       "       8.80131900e+02, 6.77801700e+02, 5.35321100e+02, 4.25479725e+02,\n",
       "       3.26275950e+02, 2.50744000e+02, 1.86055975e+02, 1.39111825e+02,\n",
       "       1.02918400e+02, 7.80560500e+01, 5.61975250e+01, 3.89838000e+01,\n",
       "       2.79815250e+01, 2.00077000e+01, 1.39426500e+01, 8.92225000e+00,\n",
       "       6.14015000e+00, 4.89037500e+00, 3.15522500e+00, 2.53142500e+00,\n",
       "       2.06880000e+00, 9.15200000e-01, 3.94450000e-01, 2.80125000e-01,\n",
       "       2.64350000e-01, 1.05750000e-01, 5.62500000e-03, 3.75000000e-03]))], scale_x=LinearScale(allow_padding=False, max=1.0, min=0.0), scale_y=LinearScale(allow_padding=False, max=1.0, min=0.0))"
      ]
     },
     "metadata": {},
     "output_type": "display_data"
    },
    {
     "name": "stdout",
     "output_type": "stream",
     "text": [
      "2388\n"
     ]
    },
    {
     "data": {
      "application/vnd.jupyter.widget-view+json": {
       "model_id": "4b9927d8764641f384fd49148bc76309",
       "version_major": 2,
       "version_minor": 0
      },
      "text/html": [
       "<p>Failed to display Jupyter Widget of type <code>interactive</code>.</p>\n",
       "<p>\n",
       "  If you're reading this message in the Jupyter Notebook or JupyterLab Notebook, it may mean\n",
       "  that the widgets JavaScript is still loading. If this message persists, it\n",
       "  likely means that the widgets JavaScript library is either not installed or\n",
       "  not enabled. See the <a href=\"https://ipywidgets.readthedocs.io/en/stable/user_install.html\">Jupyter\n",
       "  Widgets Documentation</a> for setup instructions.\n",
       "</p>\n",
       "<p>\n",
       "  If you're reading this message in another frontend (for example, a static\n",
       "  rendering on GitHub or <a href=\"https://nbviewer.jupyter.org/\">NBViewer</a>),\n",
       "  it may mean that your frontend doesn't currently support widgets.\n",
       "</p>\n"
      ],
      "text/plain": [
       "interactive(children=(Play(value=0, description='Press play', max=2388), Output()), _dom_classes=('widget-interact',))"
      ]
     },
     "metadata": {},
     "output_type": "display_data"
    },
    {
     "data": {
      "application/vnd.jupyter.widget-view+json": {
       "model_id": "ffd1f01906614565af4def0bec2c4c9f",
       "version_major": 2,
       "version_minor": 0
      },
      "text/html": [
       "<p>Failed to display Jupyter Widget of type <code>IntSlider</code>.</p>\n",
       "<p>\n",
       "  If you're reading this message in the Jupyter Notebook or JupyterLab Notebook, it may mean\n",
       "  that the widgets JavaScript is still loading. If this message persists, it\n",
       "  likely means that the widgets JavaScript library is either not installed or\n",
       "  not enabled. See the <a href=\"https://ipywidgets.readthedocs.io/en/stable/user_install.html\">Jupyter\n",
       "  Widgets Documentation</a> for setup instructions.\n",
       "</p>\n",
       "<p>\n",
       "  If you're reading this message in another frontend (for example, a static\n",
       "  rendering on GitHub or <a href=\"https://nbviewer.jupyter.org/\">NBViewer</a>),\n",
       "  it may mean that your frontend doesn't currently support widgets.\n",
       "</p>\n"
      ],
      "text/plain": [
       "IntSlider(value=0, max=2388)"
      ]
     },
     "metadata": {},
     "output_type": "display_data"
    }
   ],
   "source": [
    "lines,f = init_display()\n",
    "Nt = len([f for f in f.keys()]) - 1\n",
    "dt =1e-12\n",
    "print(Nt)\n",
    "play = widgets.Play(\n",
    "    value=0,\n",
    "    min=0,\n",
    "    max=Nt,\n",
    "    step=1,\n",
    "    description=\"Press play\")\n",
    "\n",
    "@interact(i=play)          # widgets.IntSlider(min=0,max=Nt,step=1,value=0,continuous_update=True))\n",
    "def update_plot(i):\n",
    "\n",
    "    Xvec = lines[0].x\n",
    "    display(f\"t = {i*dt:2.3e}s over {Nt*dt:2.1e}s\")\n",
    "    f_v = snap(i,f,\"hist\")\n",
    "    lines[0].y = f_v\n",
    "    plt.title(f\"{i}\")\n",
    "    \n",
    "    \n",
    "    \n",
    "slider = widgets.IntSlider(value=0,min=0,max=Nt,step=1,)\n",
    "widgets.jslink((play, 'value'), (slider, 'value'))\n",
    "display(slider)"
   ]
  }
 ],
 "metadata": {
  "hide_input": false,
  "kernelspec": {
   "display_name": "Python 3",
   "language": "python",
   "name": "python3"
  },
  "language_info": {
   "codemirror_mode": {
    "name": "ipython",
    "version": 3
   },
   "file_extension": ".py",
   "mimetype": "text/x-python",
   "name": "python",
   "nbconvert_exporter": "python",
   "pygments_lexer": "ipython3",
   "version": "3.6.5"
  },
  "latex_envs": {
   "LaTeX_envs_menu_present": true,
   "autoclose": false,
   "autocomplete": true,
   "bibliofile": "biblio.bib",
   "cite_by": "apalike",
   "current_citInitial": 1,
   "eqLabelWithNumbers": true,
   "eqNumInitial": 1,
   "hotkeys": {
    "equation": "Ctrl-E",
    "itemize": "Ctrl-I"
   },
   "labels_anchors": false,
   "latex_user_defs": false,
   "report_style_numbering": false,
   "user_envs_cfg": false
  },
  "toc": {
   "nav_menu": {},
   "number_sections": true,
   "sideBar": true,
   "skip_h1_title": false,
   "title_cell": "Table of Contents",
   "title_sidebar": "Contents",
   "toc_cell": false,
   "toc_position": {},
   "toc_section_display": true,
   "toc_window_display": false
  }
 },
 "nbformat": 4,
 "nbformat_minor": 2
}
